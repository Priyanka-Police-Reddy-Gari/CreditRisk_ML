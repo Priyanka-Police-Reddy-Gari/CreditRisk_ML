{
  "cells": [
    {
      "cell_type": "markdown",
      "metadata": {
        "id": "view-in-github",
        "colab_type": "text"
      },
      "source": [
        "<a href=\"https://colab.research.google.com/github/Priyanka-Police-Reddy-Gari/CreditRisk_ML/blob/main/XGBoost.ipynb\" target=\"_parent\"><img src=\"https://colab.research.google.com/assets/colab-badge.svg\" alt=\"Open In Colab\"/></a>"
      ]
    },
    {
      "cell_type": "code",
      "execution_count": null,
      "metadata": {
        "id": "jlWi0R627ieM"
      },
      "outputs": [],
      "source": [
        "import pandas as pd\n",
        "import numpy as np"
      ]
    },
    {
      "cell_type": "markdown",
      "metadata": {
        "id": "IuqEjjy2C5KI"
      },
      "source": [
        "In this project we will build a Credit Risk model to predict probability of default of a loan applicant.\n",
        "\n",
        "You can download the data from: https://www.kaggle.com/wordsforthewise/lending-club\n",
        "\n",
        "Steps:\n",
        "1. Read and Explore the data\n",
        "2. Clean the data (exclude unnecessary rows and columns)\n",
        "3. Define the target variable\n",
        "4. Data processing - the XGB package we use can handle missing values, so no need to impute missing values. Also as discussed in the class. Ensemble models do not need outlier treatment and feature scaling. So the only processing needed would be One-Hot encoding of categorical variables.\n",
        "5. Test-Train split\n",
        "6. Feature reduction\n",
        "7. Train the model / Grid search"
      ]
    },
    {
      "cell_type": "markdown",
      "metadata": {
        "id": "gfPzhDAcC239"
      },
      "source": [
        "# Note: I didn't have the data dictionary for this project; so not sure about the meaning of many columns, ... and I built a story to present the project. The point is that look at this project as a demo which is similar to a real project, and generalize it to other projects. All ML projects more or less go through the same steps and thought process."
      ]
    },
    {
      "cell_type": "code",
      "execution_count": null,
      "metadata": {
        "colab": {
          "base_uri": "https://localhost:8080/"
        },
        "id": "AhZLUazmfIKC",
        "outputId": "a0d2847f-8d0a-4260-ea30-b0abef1d4c50"
      },
      "outputs": [
        {
          "name": "stdout",
          "output_type": "stream",
          "text": [
            "Drive already mounted at /content/drive; to attempt to forcibly remount, call drive.mount(\"/content/drive\", force_remount=True).\n"
          ]
        }
      ],
      "source": [
        "# this step is to read data on Google Drive\n",
        "from google.colab import drive\n",
        "drive.mount(\"/content/drive\")"
      ]
    },
    {
      "cell_type": "code",
      "execution_count": null,
      "metadata": {
        "colab": {
          "base_uri": "https://localhost:8080/"
        },
        "id": "JXI_v-uE7qcg",
        "outputId": "1855803f-ee4e-4cd4-b8d5-1f31239d7498"
      },
      "outputs": [
        {
          "name": "stderr",
          "output_type": "stream",
          "text": [
            "<ipython-input-36-2c0c89dadf7a>:2: DtypeWarning: Columns (0,19,59,118,129,130,131,134,135,136,139,145,146,147) have mixed types. Specify dtype option on import or set low_memory=False.\n",
            "  data=pd.read_csv(\"drive/My Drive/accepted.csv\", nrows = 1000000)\n"
          ]
        }
      ],
      "source": [
        "# Due to memory issues we read only the first 1,000,000 observations\n",
        "data=pd.read_csv(\"drive/My Drive/accepted.csv\", nrows = 1000000)"
      ]
    },
    {
      "cell_type": "markdown",
      "metadata": {
        "id": "Im3NepEN7xUk"
      },
      "source": [
        "## 1. Data Exploration\n"
      ]
    },
    {
      "cell_type": "code",
      "execution_count": null,
      "metadata": {
        "colab": {
          "base_uri": "https://localhost:8080/"
        },
        "id": "9kDwozpFljSp",
        "outputId": "8ff57672-9869-451e-bf34-1d8c3533cd30"
      },
      "outputs": [
        {
          "data": {
            "text/plain": [
              "(1000000, 151)"
            ]
          },
          "execution_count": 5,
          "metadata": {},
          "output_type": "execute_result"
        }
      ],
      "source": [
        "# check data shape\n",
        "data.shape\n",
        "# 151 columns"
      ]
    },
    {
      "cell_type": "code",
      "execution_count": null,
      "metadata": {
        "colab": {
          "base_uri": "https://localhost:8080/",
          "height": 342
        },
        "id": "zNh6UMXaC6UO",
        "outputId": "0e149889-a1f3-4dec-f66d-d62d91fb86cf"
      },
      "outputs": [
        {
          "data": {
            "text/html": [
              "\n",
              "  <div id=\"df-85a6ab7e-487e-4288-a419-2f974ec0473e\" class=\"colab-df-container\">\n",
              "    <div>\n",
              "<style scoped>\n",
              "    .dataframe tbody tr th:only-of-type {\n",
              "        vertical-align: middle;\n",
              "    }\n",
              "\n",
              "    .dataframe tbody tr th {\n",
              "        vertical-align: top;\n",
              "    }\n",
              "\n",
              "    .dataframe thead th {\n",
              "        text-align: right;\n",
              "    }\n",
              "</style>\n",
              "<table border=\"1\" class=\"dataframe\">\n",
              "  <thead>\n",
              "    <tr style=\"text-align: right;\">\n",
              "      <th></th>\n",
              "      <th>id</th>\n",
              "      <th>member_id</th>\n",
              "      <th>loan_amnt</th>\n",
              "      <th>funded_amnt</th>\n",
              "      <th>funded_amnt_inv</th>\n",
              "      <th>term</th>\n",
              "      <th>int_rate</th>\n",
              "      <th>installment</th>\n",
              "      <th>grade</th>\n",
              "      <th>sub_grade</th>\n",
              "      <th>...</th>\n",
              "      <th>hardship_payoff_balance_amount</th>\n",
              "      <th>hardship_last_payment_amount</th>\n",
              "      <th>disbursement_method</th>\n",
              "      <th>debt_settlement_flag</th>\n",
              "      <th>debt_settlement_flag_date</th>\n",
              "      <th>settlement_status</th>\n",
              "      <th>settlement_date</th>\n",
              "      <th>settlement_amount</th>\n",
              "      <th>settlement_percentage</th>\n",
              "      <th>settlement_term</th>\n",
              "    </tr>\n",
              "  </thead>\n",
              "  <tbody>\n",
              "    <tr>\n",
              "      <th>999995</th>\n",
              "      <td>75333445</td>\n",
              "      <td>NaN</td>\n",
              "      <td>35000.0</td>\n",
              "      <td>35000.0</td>\n",
              "      <td>35000.0</td>\n",
              "      <td>36 months</td>\n",
              "      <td>10.75</td>\n",
              "      <td>1141.72</td>\n",
              "      <td>B</td>\n",
              "      <td>B4</td>\n",
              "      <td>...</td>\n",
              "      <td>NaN</td>\n",
              "      <td>NaN</td>\n",
              "      <td>Cash</td>\n",
              "      <td>N</td>\n",
              "      <td>NaN</td>\n",
              "      <td>NaN</td>\n",
              "      <td>NaN</td>\n",
              "      <td>NaN</td>\n",
              "      <td>NaN</td>\n",
              "      <td>NaN</td>\n",
              "    </tr>\n",
              "    <tr>\n",
              "      <th>999996</th>\n",
              "      <td>74582703</td>\n",
              "      <td>NaN</td>\n",
              "      <td>28000.0</td>\n",
              "      <td>28000.0</td>\n",
              "      <td>28000.0</td>\n",
              "      <td>60 months</td>\n",
              "      <td>20.75</td>\n",
              "      <td>753.57</td>\n",
              "      <td>E</td>\n",
              "      <td>E2</td>\n",
              "      <td>...</td>\n",
              "      <td>NaN</td>\n",
              "      <td>NaN</td>\n",
              "      <td>Cash</td>\n",
              "      <td>N</td>\n",
              "      <td>NaN</td>\n",
              "      <td>NaN</td>\n",
              "      <td>NaN</td>\n",
              "      <td>NaN</td>\n",
              "      <td>NaN</td>\n",
              "      <td>NaN</td>\n",
              "    </tr>\n",
              "    <tr>\n",
              "      <th>999997</th>\n",
              "      <td>75295505</td>\n",
              "      <td>NaN</td>\n",
              "      <td>23575.0</td>\n",
              "      <td>23575.0</td>\n",
              "      <td>23575.0</td>\n",
              "      <td>36 months</td>\n",
              "      <td>20.75</td>\n",
              "      <td>885.17</td>\n",
              "      <td>E</td>\n",
              "      <td>E2</td>\n",
              "      <td>...</td>\n",
              "      <td>NaN</td>\n",
              "      <td>NaN</td>\n",
              "      <td>Cash</td>\n",
              "      <td>N</td>\n",
              "      <td>NaN</td>\n",
              "      <td>NaN</td>\n",
              "      <td>NaN</td>\n",
              "      <td>NaN</td>\n",
              "      <td>NaN</td>\n",
              "      <td>NaN</td>\n",
              "    </tr>\n",
              "    <tr>\n",
              "      <th>999998</th>\n",
              "      <td>75144864</td>\n",
              "      <td>NaN</td>\n",
              "      <td>20000.0</td>\n",
              "      <td>20000.0</td>\n",
              "      <td>20000.0</td>\n",
              "      <td>60 months</td>\n",
              "      <td>19.53</td>\n",
              "      <td>524.67</td>\n",
              "      <td>D</td>\n",
              "      <td>D5</td>\n",
              "      <td>...</td>\n",
              "      <td>NaN</td>\n",
              "      <td>NaN</td>\n",
              "      <td>Cash</td>\n",
              "      <td>N</td>\n",
              "      <td>NaN</td>\n",
              "      <td>NaN</td>\n",
              "      <td>NaN</td>\n",
              "      <td>NaN</td>\n",
              "      <td>NaN</td>\n",
              "      <td>NaN</td>\n",
              "    </tr>\n",
              "    <tr>\n",
              "      <th>999999</th>\n",
              "      <td>75275669</td>\n",
              "      <td>NaN</td>\n",
              "      <td>25000.0</td>\n",
              "      <td>25000.0</td>\n",
              "      <td>25000.0</td>\n",
              "      <td>60 months</td>\n",
              "      <td>8.39</td>\n",
              "      <td>511.59</td>\n",
              "      <td>B</td>\n",
              "      <td>B1</td>\n",
              "      <td>...</td>\n",
              "      <td>NaN</td>\n",
              "      <td>NaN</td>\n",
              "      <td>Cash</td>\n",
              "      <td>N</td>\n",
              "      <td>NaN</td>\n",
              "      <td>NaN</td>\n",
              "      <td>NaN</td>\n",
              "      <td>NaN</td>\n",
              "      <td>NaN</td>\n",
              "      <td>NaN</td>\n",
              "    </tr>\n",
              "  </tbody>\n",
              "</table>\n",
              "<p>5 rows × 151 columns</p>\n",
              "</div>\n",
              "    <div class=\"colab-df-buttons\">\n",
              "\n",
              "  <div class=\"colab-df-container\">\n",
              "    <button class=\"colab-df-convert\" onclick=\"convertToInteractive('df-85a6ab7e-487e-4288-a419-2f974ec0473e')\"\n",
              "            title=\"Convert this dataframe to an interactive table.\"\n",
              "            style=\"display:none;\">\n",
              "\n",
              "  <svg xmlns=\"http://www.w3.org/2000/svg\" height=\"24px\" viewBox=\"0 -960 960 960\">\n",
              "    <path d=\"M120-120v-720h720v720H120Zm60-500h600v-160H180v160Zm220 220h160v-160H400v160Zm0 220h160v-160H400v160ZM180-400h160v-160H180v160Zm440 0h160v-160H620v160ZM180-180h160v-160H180v160Zm440 0h160v-160H620v160Z\"/>\n",
              "  </svg>\n",
              "    </button>\n",
              "\n",
              "  <style>\n",
              "    .colab-df-container {\n",
              "      display:flex;\n",
              "      gap: 12px;\n",
              "    }\n",
              "\n",
              "    .colab-df-convert {\n",
              "      background-color: #E8F0FE;\n",
              "      border: none;\n",
              "      border-radius: 50%;\n",
              "      cursor: pointer;\n",
              "      display: none;\n",
              "      fill: #1967D2;\n",
              "      height: 32px;\n",
              "      padding: 0 0 0 0;\n",
              "      width: 32px;\n",
              "    }\n",
              "\n",
              "    .colab-df-convert:hover {\n",
              "      background-color: #E2EBFA;\n",
              "      box-shadow: 0px 1px 2px rgba(60, 64, 67, 0.3), 0px 1px 3px 1px rgba(60, 64, 67, 0.15);\n",
              "      fill: #174EA6;\n",
              "    }\n",
              "\n",
              "    .colab-df-buttons div {\n",
              "      margin-bottom: 4px;\n",
              "    }\n",
              "\n",
              "    [theme=dark] .colab-df-convert {\n",
              "      background-color: #3B4455;\n",
              "      fill: #D2E3FC;\n",
              "    }\n",
              "\n",
              "    [theme=dark] .colab-df-convert:hover {\n",
              "      background-color: #434B5C;\n",
              "      box-shadow: 0px 1px 3px 1px rgba(0, 0, 0, 0.15);\n",
              "      filter: drop-shadow(0px 1px 2px rgba(0, 0, 0, 0.3));\n",
              "      fill: #FFFFFF;\n",
              "    }\n",
              "  </style>\n",
              "\n",
              "    <script>\n",
              "      const buttonEl =\n",
              "        document.querySelector('#df-85a6ab7e-487e-4288-a419-2f974ec0473e button.colab-df-convert');\n",
              "      buttonEl.style.display =\n",
              "        google.colab.kernel.accessAllowed ? 'block' : 'none';\n",
              "\n",
              "      async function convertToInteractive(key) {\n",
              "        const element = document.querySelector('#df-85a6ab7e-487e-4288-a419-2f974ec0473e');\n",
              "        const dataTable =\n",
              "          await google.colab.kernel.invokeFunction('convertToInteractive',\n",
              "                                                    [key], {});\n",
              "        if (!dataTable) return;\n",
              "\n",
              "        const docLinkHtml = 'Like what you see? Visit the ' +\n",
              "          '<a target=\"_blank\" href=https://colab.research.google.com/notebooks/data_table.ipynb>data table notebook</a>'\n",
              "          + ' to learn more about interactive tables.';\n",
              "        element.innerHTML = '';\n",
              "        dataTable['output_type'] = 'display_data';\n",
              "        await google.colab.output.renderOutput(dataTable, element);\n",
              "        const docLink = document.createElement('div');\n",
              "        docLink.innerHTML = docLinkHtml;\n",
              "        element.appendChild(docLink);\n",
              "      }\n",
              "    </script>\n",
              "  </div>\n",
              "\n",
              "\n",
              "<div id=\"df-d94a6157-5a36-4dba-88b1-438c62897d93\">\n",
              "  <button class=\"colab-df-quickchart\" onclick=\"quickchart('df-d94a6157-5a36-4dba-88b1-438c62897d93')\"\n",
              "            title=\"Suggest charts.\"\n",
              "            style=\"display:none;\">\n",
              "\n",
              "<svg xmlns=\"http://www.w3.org/2000/svg\" height=\"24px\"viewBox=\"0 0 24 24\"\n",
              "     width=\"24px\">\n",
              "    <g>\n",
              "        <path d=\"M19 3H5c-1.1 0-2 .9-2 2v14c0 1.1.9 2 2 2h14c1.1 0 2-.9 2-2V5c0-1.1-.9-2-2-2zM9 17H7v-7h2v7zm4 0h-2V7h2v10zm4 0h-2v-4h2v4z\"/>\n",
              "    </g>\n",
              "</svg>\n",
              "  </button>\n",
              "\n",
              "<style>\n",
              "  .colab-df-quickchart {\n",
              "      --bg-color: #E8F0FE;\n",
              "      --fill-color: #1967D2;\n",
              "      --hover-bg-color: #E2EBFA;\n",
              "      --hover-fill-color: #174EA6;\n",
              "      --disabled-fill-color: #AAA;\n",
              "      --disabled-bg-color: #DDD;\n",
              "  }\n",
              "\n",
              "  [theme=dark] .colab-df-quickchart {\n",
              "      --bg-color: #3B4455;\n",
              "      --fill-color: #D2E3FC;\n",
              "      --hover-bg-color: #434B5C;\n",
              "      --hover-fill-color: #FFFFFF;\n",
              "      --disabled-bg-color: #3B4455;\n",
              "      --disabled-fill-color: #666;\n",
              "  }\n",
              "\n",
              "  .colab-df-quickchart {\n",
              "    background-color: var(--bg-color);\n",
              "    border: none;\n",
              "    border-radius: 50%;\n",
              "    cursor: pointer;\n",
              "    display: none;\n",
              "    fill: var(--fill-color);\n",
              "    height: 32px;\n",
              "    padding: 0;\n",
              "    width: 32px;\n",
              "  }\n",
              "\n",
              "  .colab-df-quickchart:hover {\n",
              "    background-color: var(--hover-bg-color);\n",
              "    box-shadow: 0 1px 2px rgba(60, 64, 67, 0.3), 0 1px 3px 1px rgba(60, 64, 67, 0.15);\n",
              "    fill: var(--button-hover-fill-color);\n",
              "  }\n",
              "\n",
              "  .colab-df-quickchart-complete:disabled,\n",
              "  .colab-df-quickchart-complete:disabled:hover {\n",
              "    background-color: var(--disabled-bg-color);\n",
              "    fill: var(--disabled-fill-color);\n",
              "    box-shadow: none;\n",
              "  }\n",
              "\n",
              "  .colab-df-spinner {\n",
              "    border: 2px solid var(--fill-color);\n",
              "    border-color: transparent;\n",
              "    border-bottom-color: var(--fill-color);\n",
              "    animation:\n",
              "      spin 1s steps(1) infinite;\n",
              "  }\n",
              "\n",
              "  @keyframes spin {\n",
              "    0% {\n",
              "      border-color: transparent;\n",
              "      border-bottom-color: var(--fill-color);\n",
              "      border-left-color: var(--fill-color);\n",
              "    }\n",
              "    20% {\n",
              "      border-color: transparent;\n",
              "      border-left-color: var(--fill-color);\n",
              "      border-top-color: var(--fill-color);\n",
              "    }\n",
              "    30% {\n",
              "      border-color: transparent;\n",
              "      border-left-color: var(--fill-color);\n",
              "      border-top-color: var(--fill-color);\n",
              "      border-right-color: var(--fill-color);\n",
              "    }\n",
              "    40% {\n",
              "      border-color: transparent;\n",
              "      border-right-color: var(--fill-color);\n",
              "      border-top-color: var(--fill-color);\n",
              "    }\n",
              "    60% {\n",
              "      border-color: transparent;\n",
              "      border-right-color: var(--fill-color);\n",
              "    }\n",
              "    80% {\n",
              "      border-color: transparent;\n",
              "      border-right-color: var(--fill-color);\n",
              "      border-bottom-color: var(--fill-color);\n",
              "    }\n",
              "    90% {\n",
              "      border-color: transparent;\n",
              "      border-bottom-color: var(--fill-color);\n",
              "    }\n",
              "  }\n",
              "</style>\n",
              "\n",
              "  <script>\n",
              "    async function quickchart(key) {\n",
              "      const quickchartButtonEl =\n",
              "        document.querySelector('#' + key + ' button');\n",
              "      quickchartButtonEl.disabled = true;  // To prevent multiple clicks.\n",
              "      quickchartButtonEl.classList.add('colab-df-spinner');\n",
              "      try {\n",
              "        const charts = await google.colab.kernel.invokeFunction(\n",
              "            'suggestCharts', [key], {});\n",
              "      } catch (error) {\n",
              "        console.error('Error during call to suggestCharts:', error);\n",
              "      }\n",
              "      quickchartButtonEl.classList.remove('colab-df-spinner');\n",
              "      quickchartButtonEl.classList.add('colab-df-quickchart-complete');\n",
              "    }\n",
              "    (() => {\n",
              "      let quickchartButtonEl =\n",
              "        document.querySelector('#df-d94a6157-5a36-4dba-88b1-438c62897d93 button');\n",
              "      quickchartButtonEl.style.display =\n",
              "        google.colab.kernel.accessAllowed ? 'block' : 'none';\n",
              "    })();\n",
              "  </script>\n",
              "</div>\n",
              "    </div>\n",
              "  </div>\n"
            ],
            "text/plain": [
              "              id  member_id  loan_amnt  funded_amnt  funded_amnt_inv  \\\n",
              "999995  75333445        NaN    35000.0      35000.0          35000.0   \n",
              "999996  74582703        NaN    28000.0      28000.0          28000.0   \n",
              "999997  75295505        NaN    23575.0      23575.0          23575.0   \n",
              "999998  75144864        NaN    20000.0      20000.0          20000.0   \n",
              "999999  75275669        NaN    25000.0      25000.0          25000.0   \n",
              "\n",
              "              term  int_rate  installment grade sub_grade  ...  \\\n",
              "999995   36 months     10.75      1141.72     B        B4  ...   \n",
              "999996   60 months     20.75       753.57     E        E2  ...   \n",
              "999997   36 months     20.75       885.17     E        E2  ...   \n",
              "999998   60 months     19.53       524.67     D        D5  ...   \n",
              "999999   60 months      8.39       511.59     B        B1  ...   \n",
              "\n",
              "       hardship_payoff_balance_amount hardship_last_payment_amount  \\\n",
              "999995                            NaN                          NaN   \n",
              "999996                            NaN                          NaN   \n",
              "999997                            NaN                          NaN   \n",
              "999998                            NaN                          NaN   \n",
              "999999                            NaN                          NaN   \n",
              "\n",
              "       disbursement_method  debt_settlement_flag debt_settlement_flag_date  \\\n",
              "999995                Cash                     N                       NaN   \n",
              "999996                Cash                     N                       NaN   \n",
              "999997                Cash                     N                       NaN   \n",
              "999998                Cash                     N                       NaN   \n",
              "999999                Cash                     N                       NaN   \n",
              "\n",
              "       settlement_status settlement_date settlement_amount  \\\n",
              "999995               NaN             NaN               NaN   \n",
              "999996               NaN             NaN               NaN   \n",
              "999997               NaN             NaN               NaN   \n",
              "999998               NaN             NaN               NaN   \n",
              "999999               NaN             NaN               NaN   \n",
              "\n",
              "       settlement_percentage settlement_term  \n",
              "999995                   NaN             NaN  \n",
              "999996                   NaN             NaN  \n",
              "999997                   NaN             NaN  \n",
              "999998                   NaN             NaN  \n",
              "999999                   NaN             NaN  \n",
              "\n",
              "[5 rows x 151 columns]"
            ]
          },
          "execution_count": 6,
          "metadata": {},
          "output_type": "execute_result"
        }
      ],
      "source": [
        "# take a look at data\n",
        "data.tail(5)\n",
        "\n",
        "# as you can see python does not show all columns when there are many of them. One way to check all the columns is to save a few rows as a csv file and check the file."
      ]
    },
    {
      "cell_type": "code",
      "execution_count": null,
      "metadata": {
        "colab": {
          "base_uri": "https://localhost:8080/"
        },
        "id": "o6OlDBQatGbp",
        "outputId": "fedb7d22-ed40-485e-9e1f-eb8c03a64eff"
      },
      "outputs": [
        {
          "data": {
            "text/plain": [
              "id                        object\n",
              "member_id                float64\n",
              "loan_amnt                float64\n",
              "funded_amnt              float64\n",
              "funded_amnt_inv          float64\n",
              "                          ...   \n",
              "settlement_status         object\n",
              "settlement_date           object\n",
              "settlement_amount        float64\n",
              "settlement_percentage    float64\n",
              "settlement_term          float64\n",
              "Length: 151, dtype: object"
            ]
          },
          "execution_count": 7,
          "metadata": {},
          "output_type": "execute_result"
        }
      ],
      "source": [
        "# check data types\n",
        "data.dtypes\n",
        "\n",
        "# again, python only shows some rows. So we save them as a csv file."
      ]
    },
    {
      "cell_type": "code",
      "execution_count": null,
      "metadata": {
        "id": "zuG77HoYKZAL"
      },
      "outputs": [],
      "source": [
        "types_as_pd = pd.DataFrame(data.dtypes)\n",
        "types_as_pd.to_csv(\"drive/My Drive/types_as_pd.csv\")"
      ]
    },
    {
      "cell_type": "markdown",
      "metadata": {
        "id": "7G3nL6yY-ziJ"
      },
      "source": [
        "## 2. Data Cleaning - Feature and Observation Exclusion"
      ]
    },
    {
      "cell_type": "markdown",
      "metadata": {
        "id": "sCYjCp7Yth5c"
      },
      "source": [
        "**2.1. Feature Exclusion:** To do a good feature exclusion we need to have the data dictionary, which is missing here. So we go by guessing meaning of features.\n",
        "\n",
        "Some features do not contain any logical information, like ID; so they will not be used in the model, and we exclude them from the beginning.\n",
        "\n",
        "Also there are features that are realted to Loan characteristics, such as loan's term and interest rate. The goal of this model is to estimate probability of default, to decide whether to approve or reject a loan applicant. Loan characteristics are defined once the reject/approve decision is made. In other words, when deciding on an application, loan characteristic data do not exist. So we exclude these features as well, because at the time of decision they do not exist, and can not be used to predict probability of default.\n",
        "\n",
        "We also remove some features that are allowed to be used in a loan application decision, such as Zip Code, ...\n",
        "\n",
        "# This is a very important concept, and a lot of times ignored by even experienced modelers. Always think about when the model will be applied, and only use features that are available at the model execution time."
      ]
    },
    {
      "cell_type": "code",
      "execution_count": null,
      "metadata": {
        "id": "3gorhqJ3OAFz"
      },
      "outputs": [],
      "source": [
        "final_data = data.drop([\"id\", \"member_id\", \"loan_amnt\", \"funded_amnt\", \"funded_amnt_inv\", \"term\",\n",
        "                        \"int_rate\", \"installment\", \"grade\", \"sub_grade\", \"url\", \"desc\", \"purpose\"\n",
        "                        , \"title\", \"zip_code\", \"addr_state\", \"policy_code\"], axis = 1)"
      ]
    },
    {
      "cell_type": "code",
      "execution_count": null,
      "metadata": {
        "colab": {
          "base_uri": "https://localhost:8080/"
        },
        "id": "PUIkeYt0OBrI",
        "outputId": "78304ff3-cb6d-47ec-9eff-714ca106e8ca"
      },
      "outputs": [
        {
          "data": {
            "text/plain": [
              "(1000000, 134)"
            ]
          },
          "execution_count": 10,
          "metadata": {},
          "output_type": "execute_result"
        }
      ],
      "source": [
        "# check the data frequently\n",
        "final_data.shape"
      ]
    },
    {
      "cell_type": "markdown",
      "metadata": {
        "id": "pUenpv91A1E7"
      },
      "source": [
        "**2.2. Observation Exclusion:** Observation exclusion is often the most time consuming part of a ML project. The goal here is to exclude observations that do not represent the Target Population; i.e. observations that make the modeling sample Biased.\n",
        "\n",
        "Defining exclusions often requires a good understanding of the business, and is done in collaboration with model users, through several meetings.\n",
        "\n",
        "In a Credit Risk project, we often exclude inactive accounts; for example accounts that have been paid off or charged off. Also we exclude accounts that are under any treatment. Treatments are plans to help customers who are in some sort of financial hardship. Examples are temporarily reduction in monthly payments, posptpone payments, ..."
      ]
    },
    {
      "cell_type": "code",
      "execution_count": null,
      "metadata": {
        "colab": {
          "base_uri": "https://localhost:8080/"
        },
        "id": "ZgIhkv4s4EPE",
        "outputId": "e0b0ef51-b154-492b-e080-bb9b8f446d6e"
      },
      "outputs": [
        {
          "data": {
            "text/plain": [
              "loan_status\n",
              "Charged Off           121189\n",
              "Current               411982\n",
              "Default                   20\n",
              "Fully Paid            450285\n",
              "In Grace Period         3997\n",
              "Late (16-30 days)       2040\n",
              "Late (31-120 days)     10475\n",
              "dtype: int64"
            ]
          },
          "execution_count": 11,
          "metadata": {},
          "output_type": "execute_result"
        }
      ],
      "source": [
        "# remove inactive and paid off acounts.\n",
        "# Loan_Status is a feature that shows status of a loan. We will use this feature to identify inactive accounts.\n",
        "# We will later use the same feature to define the target variable.\n",
        "# Let's check categories of this feature.\n",
        "\n",
        "final_data.groupby([\"loan_status\"]).size()\n",
        "\n"
      ]
    },
    {
      "cell_type": "code",
      "execution_count": null,
      "metadata": {
        "id": "4LZ6JcTE5OMz"
      },
      "outputs": [],
      "source": [
        "# We exclude Charge Off, Fully Paid, and Default\n",
        "final_data = final_data[(final_data.loan_status != \"Charged Off\") & (final_data.loan_status != \"Default\") &\n",
        "                        (final_data.loan_status != \"Fully Paid\")]"
      ]
    },
    {
      "cell_type": "code",
      "execution_count": null,
      "metadata": {
        "colab": {
          "base_uri": "https://localhost:8080/"
        },
        "id": "cYZwShJT5zXu",
        "outputId": "26cad7e5-e48a-4e7b-8bc5-a150b5e96556"
      },
      "outputs": [
        {
          "data": {
            "text/plain": [
              "loan_status\n",
              "Current               411982\n",
              "In Grace Period         3997\n",
              "Late (16-30 days)       2040\n",
              "Late (31-120 days)     10475\n",
              "dtype: int64"
            ]
          },
          "execution_count": 13,
          "metadata": {},
          "output_type": "execute_result"
        }
      ],
      "source": [
        "# check\n",
        "final_data.groupby([\"loan_status\"]).size()"
      ]
    },
    {
      "cell_type": "code",
      "execution_count": null,
      "metadata": {
        "colab": {
          "base_uri": "https://localhost:8080/"
        },
        "id": "ej2seounB9hH",
        "outputId": "c22b36a5-11a1-444d-9bc2-bcf5e5a24bee"
      },
      "outputs": [
        {
          "name": "stdout",
          "output_type": "stream",
          "text": [
            "hardship_flag\n",
            "N    428069\n",
            "Y       425\n",
            "dtype: int64\n",
            "debt_settlement_flag\n",
            "N    428063\n",
            "Y       431\n",
            "dtype: int64\n",
            "pymnt_plan\n",
            "n    428183\n",
            "y       311\n",
            "dtype: int64\n"
          ]
        }
      ],
      "source": [
        "# exclude observations under treatment. There are three groups of features that are related to treatments: hardship, settlement, and payment plan\n",
        "print (final_data.groupby([\"hardship_flag\"]).size())\n",
        "print (final_data.groupby([\"debt_settlement_flag\"]).size())\n",
        "print (final_data.groupby([\"pymnt_plan\"]).size())\n",
        "\n",
        "final_data = final_data[(final_data.hardship_flag != \"Y\") & (final_data.debt_settlement_flag != \"Y\") &\n",
        "                        (final_data.pymnt_plan != \"y\")]"
      ]
    },
    {
      "cell_type": "code",
      "execution_count": null,
      "metadata": {
        "colab": {
          "base_uri": "https://localhost:8080/"
        },
        "id": "3Ub7n2UI8HQd",
        "outputId": "aa730c3d-1ffd-4d36-fb22-cd77bea18926"
      },
      "outputs": [
        {
          "name": "stdout",
          "output_type": "stream",
          "text": [
            "hardship_flag\n",
            "N    427638\n",
            "dtype: int64\n",
            "debt_settlement_flag\n",
            "N    427638\n",
            "dtype: int64\n",
            "pymnt_plan\n",
            "n    427638\n",
            "dtype: int64\n"
          ]
        }
      ],
      "source": [
        "# check\n",
        "print (final_data.groupby([\"hardship_flag\"]).size())\n",
        "print (final_data.groupby([\"debt_settlement_flag\"]).size())\n",
        "print (final_data.groupby([\"pymnt_plan\"]).size())"
      ]
    },
    {
      "cell_type": "code",
      "execution_count": null,
      "metadata": {
        "id": "dYh0zz7B8Kqq"
      },
      "outputs": [],
      "source": [
        "# We also remove features that are related to these plans, as we do not consider those observations for modeling\n",
        "final_data.drop([\"hardship_flag\", \"hardship_type\", \"hardship_reason\", \"hardship_status\",\n",
        "                 \"deferral_term\", \"hardship_amount\", \"hardship_start_date\", \"hardship_end_date\",\n",
        "                 \"payment_plan_start_date\", \"hardship_length\", \"hardship_dpd\", \"hardship_loan_status\",\n",
        "                 \"orig_projected_additional_accrued_interest\",\n",
        "                 \"hardship_payoff_balance_amount\", \"hardship_last_payment_amount\", \"disbursement_method\",\n",
        "                 \"debt_settlement_flag\", \"debt_settlement_flag_date\", \"settlement_status\",\n",
        "                 \"settlement_date\", \"settlement_amount\", \"settlement_percentage\", \"settlement_term\"], axis = 1, inplace = True)"
      ]
    },
    {
      "cell_type": "code",
      "execution_count": null,
      "metadata": {
        "id": "nQeGx5xF9yl0"
      },
      "outputs": [],
      "source": [
        "# Final check of the list of variables and remove any feature left that needs to be removed\n",
        "types_as_pd = pd.DataFrame(final_data.dtypes)\n",
        "types_as_pd.to_csv(\"drive/My Drive/types_as_pd.csv\")"
      ]
    },
    {
      "cell_type": "code",
      "execution_count": null,
      "metadata": {
        "id": "PJXF-lpcAbY0"
      },
      "outputs": [],
      "source": [
        "# this column was left\n",
        "final_data.drop([\"pymnt_plan\"], axis = 1, inplace = True)"
      ]
    },
    {
      "cell_type": "code",
      "execution_count": null,
      "metadata": {
        "id": "f-jEIfc4_HM-"
      },
      "outputs": [],
      "source": [
        "# Eventually we check a few records to make sure we are only including features that make sense.\n",
        "final_data.head(50).to_csv(\"drive/My Drive/top_50.csv\")"
      ]
    },
    {
      "cell_type": "code",
      "execution_count": null,
      "metadata": {
        "id": "9PI-by3OAmiY"
      },
      "outputs": [],
      "source": [
        "# there are some fields related to date. To use these fields we often need to know when the data was gathered, so we can convert the field to\n",
        "# like time since X rather than date of X. Since we do not know data gathering date, we remove these fields as well.\n",
        "final_data.drop([\"issue_d\", \"earliest_cr_line\", \"last_pymnt_d\",\n",
        "                 \"next_pymnt_d\", \"last_credit_pull_d\"], axis = 1, inplace = True)"
      ]
    },
    {
      "cell_type": "markdown",
      "metadata": {
        "id": "v8w5LuSxconH"
      },
      "source": [
        "## 3. Define the target variable: there is no variable indicating default/no default. We use \"loan_status\" variable to define default."
      ]
    },
    {
      "cell_type": "code",
      "execution_count": null,
      "metadata": {
        "colab": {
          "base_uri": "https://localhost:8080/"
        },
        "id": "fBiuGQeq3MMS",
        "outputId": "84c9193e-bfcc-4875-f86e-8fae69753139"
      },
      "outputs": [
        {
          "name": "stdout",
          "output_type": "stream",
          "text": [
            "loan_status\n",
            "Current               411967\n",
            "In Grace Period         3984\n",
            "Late (16-30 days)       1992\n",
            "Late (31-120 days)      9695\n",
            "dtype: int64\n"
          ]
        }
      ],
      "source": [
        "# check categories\n",
        "print (final_data.groupby([\"loan_status\"]).size())"
      ]
    },
    {
      "cell_type": "code",
      "execution_count": null,
      "metadata": {
        "id": "WUpyEMNo3cPy"
      },
      "outputs": [],
      "source": [
        "# We define everyone who is current or in grace priod as good (0), and others as bad (1).\n",
        "final_data['30+ Delinquent'] = np.where((final_data.loan_status == \"Current\") |\n",
        "                                        (final_data.loan_status == \"In Grace Period\"),0, 1)"
      ]
    },
    {
      "cell_type": "code",
      "execution_count": null,
      "metadata": {
        "colab": {
          "base_uri": "https://localhost:8080/"
        },
        "id": "NZyriqgG3r1f",
        "outputId": "ba86d6b5-1aa0-402b-dd4b-0f6e94089501"
      },
      "outputs": [
        {
          "name": "stdout",
          "output_type": "stream",
          "text": [
            "30+ Delinquent\n",
            "0    415951\n",
            "1     11687\n",
            "dtype: int64\n"
          ]
        }
      ],
      "source": [
        "# check\n",
        "print (final_data.groupby([\"30+ Delinquent\"]).size())"
      ]
    },
    {
      "cell_type": "code",
      "execution_count": null,
      "metadata": {
        "id": "SBSiuqBiMlJP"
      },
      "outputs": [],
      "source": [
        "# we don't need the loan_status attribute anymore\n",
        "final_data.drop(['loan_status'], axis=1, inplace=True)"
      ]
    },
    {
      "cell_type": "markdown",
      "metadata": {
        "id": "boKInocV6GBb"
      },
      "source": [
        "## 4. Data Processing: As mentioned, for this XGBoost package we only need to do one-hot encoding. Outlier treatment and feature scaling generally are not needed for tree-based methods. Also this package can automatically handle missing values, just need to make sure all missing values are stored as NaN."
      ]
    },
    {
      "cell_type": "code",
      "execution_count": null,
      "metadata": {
        "colab": {
          "base_uri": "https://localhost:8080/"
        },
        "id": "zg1UsWQbeRmO",
        "outputId": "f3b40bf9-0c91-4364-f7fc-33edf8e75f98"
      },
      "outputs": [
        {
          "data": {
            "text/plain": [
              "emp_title                    object\n",
              "emp_length                   object\n",
              "home_ownership               object\n",
              "verification_status          object\n",
              "initial_list_status          object\n",
              "application_type             object\n",
              "verification_status_joint    object\n",
              "sec_app_earliest_cr_line     object\n",
              "dtype: object"
            ]
          },
          "execution_count": 30,
          "metadata": {},
          "output_type": "execute_result"
        }
      ],
      "source": [
        "# list of categorical variables - we need to address them one by one\n",
        "final_data.dtypes[final_data.dtypes == \"object\"]\n",
        "\n",
        "# we will first check how many categories in each attribute"
      ]
    },
    {
      "cell_type": "code",
      "execution_count": null,
      "metadata": {
        "colab": {
          "base_uri": "https://localhost:8080/"
        },
        "id": "m5-2-Fh8fTCZ",
        "outputId": "0fc29b3b-3425-4b8e-9285-b3a915f794c7"
      },
      "outputs": [
        {
          "name": "stdout",
          "output_type": "stream",
          "text": [
            "emp_title\n",
            "\\tCFO                              1\n",
            "                                   2\n",
            " \\tDriver                          1\n",
            " \\tIT internal support             1\n",
            "    Food Preparation Worker        1\n",
            "                                  ..\n",
            "zone vice president                1\n",
            "zookeeper                          1\n",
            "{Owner}Truck Driver                1\n",
            "​Associate Tech Support Analyst    1\n",
            "​Financial Analyst                 1\n",
            "Length: 116106, dtype: int64\n"
          ]
        }
      ],
      "source": [
        "# emp_title\n",
        "print (final_data.groupby([\"emp_title\"]).size())\n",
        "\n",
        "# this attribute has many classes. We can keep it and define some clusters of jobs ... but here for simplicity we just remove it.\n",
        "final_data.drop(['emp_title'], axis=1, inplace=True)"
      ]
    },
    {
      "cell_type": "code",
      "execution_count": null,
      "metadata": {
        "colab": {
          "base_uri": "https://localhost:8080/"
        },
        "id": "AhVjRKk21Dqv",
        "outputId": "d56b19c1-55ae-40f7-9f5c-66e0ddcb5600"
      },
      "outputs": [
        {
          "name": "stdout",
          "output_type": "stream",
          "text": [
            "emp_length\n",
            "1 year        27513\n",
            "10+ years    143878\n",
            "2 years       38484\n",
            "3 years       34320\n",
            "4 years       26335\n",
            "5 years       26116\n",
            "6 years       18469\n",
            "7 years       15762\n",
            "8 years       14698\n",
            "9 years       13851\n",
            "< 1 year      37424\n",
            "dtype: int64\n"
          ]
        }
      ],
      "source": [
        "# emp_length\n",
        "print (final_data.groupby([\"emp_length\"]).size())\n",
        "\n",
        "# classes of this attribute have an order, so we have the option to replace them with numbers, rather than do one-hot encoding\n",
        "final_data['Employment_Length'] = np.nan\n",
        "final_data['Employment_Length'] = np.where(final_data.emp_length == \"< 1 year\", 0, final_data.Employment_Length)\n",
        "final_data['Employment_Length'] = np.where(final_data.emp_length == \"1 year\", 1, final_data.Employment_Length)\n",
        "final_data['Employment_Length'] = np.where(final_data.emp_length == \"2 years\", 2, final_data.Employment_Length)\n",
        "final_data['Employment_Length'] = np.where(final_data.emp_length == \"3 years\", 3, final_data.Employment_Length)\n",
        "final_data['Employment_Length'] = np.where(final_data.emp_length == \"4 years\", 4, final_data.Employment_Length)\n",
        "final_data['Employment_Length'] = np.where(final_data.emp_length == \"5 years\", 5, final_data.Employment_Length)\n",
        "final_data['Employment_Length'] = np.where(final_data.emp_length == \"6 years\", 6, final_data.Employment_Length)\n",
        "final_data['Employment_Length'] = np.where(final_data.emp_length == \"7 years\", 7, final_data.Employment_Length)\n",
        "final_data['Employment_Length'] = np.where(final_data.emp_length == \"8 years\", 8, final_data.Employment_Length)\n",
        "final_data['Employment_Length'] = np.where(final_data.emp_length == \"9 years\", 9, final_data.Employment_Length)\n",
        "final_data['Employment_Length'] = np.where(final_data.emp_length == \"10+ years\", 10, final_data.Employment_Length)\n",
        "\n",
        "# and we remove the original attribute\n",
        "final_data.drop(['emp_length'], axis=1, inplace=True)"
      ]
    },
    {
      "cell_type": "code",
      "execution_count": null,
      "metadata": {
        "colab": {
          "base_uri": "https://localhost:8080/"
        },
        "id": "PFHCM7u-1xxX",
        "outputId": "20e96aef-e563-42f4-b47a-5e388101168f"
      },
      "outputs": [
        {
          "name": "stdout",
          "output_type": "stream",
          "text": [
            "home_ownership\n",
            "MORTGAGE    209643\n",
            "OWN          50289\n",
            "RENT        167564\n",
            "dtype: int64\n",
            "home_ownership\n",
            "MORTGAGE    209643\n",
            "OWN          50289\n",
            "RENT        167564\n",
            "dtype: int64\n",
            "    MORTGAGE  OWN  RENT\n",
            "3          1    0     0\n",
            "10         1    0     0\n",
            "11         1    0     0\n",
            "18         0    0     1\n",
            "34         1    0     0\n",
            "42         1    0     0\n",
            "48         0    0     1\n",
            "51         0    1     0\n",
            "52         1    0     0\n",
            "53         0    1     0\n"
          ]
        }
      ],
      "source": [
        "# home_ownership\n",
        "print (final_data.groupby([\"home_ownership\"]).size())\n",
        "\n",
        "# There are few observations in \"NONE\" and \"ANY\" categories. Probably not wise to add a column for them (through one-hot encoding)\n",
        "# We can put \"NONE\" and \"ANY\" in one category and then do one-hot encoding. We set these two categories as missing.\n",
        "final_data['home_ownership'] = np.where(final_data.home_ownership == \"NONE\", np.NAN, final_data.home_ownership)\n",
        "final_data['home_ownership'] = np.where(final_data.home_ownership == \"ANY\", np.NAN, final_data.home_ownership)\n",
        "\n",
        "# check\n",
        "print (final_data.groupby([\"home_ownership\"]).size())\n",
        "\n",
        "# one-hot encoding\n",
        "one_hot = pd.get_dummies(final_data['home_ownership'])\n",
        "print (one_hot.head(10))\n",
        "final_data = final_data.join(one_hot)\n",
        "\n",
        "# and we remove the original attribute\n",
        "final_data.drop(['home_ownership'], axis=1, inplace=True)"
      ]
    },
    {
      "cell_type": "code",
      "execution_count": null,
      "metadata": {
        "id": "Na8mHJaJ1sZY"
      },
      "outputs": [],
      "source": [
        "# We nedd to do the same thing for the rest of attributes. Here for simplicity we just remove them.\n",
        "final_data.drop(['verification_status', \"initial_list_status\", \"application_type\",\n",
        "                 \"verification_status_joint\", \"sec_app_earliest_cr_line\"], axis=1, inplace=True)"
      ]
    },
    {
      "cell_type": "code",
      "execution_count": null,
      "metadata": {
        "colab": {
          "base_uri": "https://localhost:8080/"
        },
        "id": "UgeIHvjCLsE9",
        "outputId": "b06351ce-9dc9-45ec-cfb3-c39eedad18b5"
      },
      "outputs": [
        {
          "data": {
            "text/plain": [
              "Series([], dtype: object)"
            ]
          },
          "execution_count": 61,
          "metadata": {},
          "output_type": "execute_result"
        }
      ],
      "source": [
        "# check\n",
        "final_data.dtypes[final_data.dtypes == \"object\"]\n",
        "\n",
        "# all numerical, so we are fine"
      ]
    },
    {
      "cell_type": "markdown",
      "metadata": {
        "id": "nlSoBYkCZboq"
      },
      "source": [
        "\n",
        "\n",
        "\n",
        "## 5. Test-Train split"
      ]
    },
    {
      "cell_type": "code",
      "execution_count": null,
      "metadata": {
        "id": "Yw6fqomSZfLC"
      },
      "outputs": [],
      "source": [
        "# We put 30% in test. This is a random split which is not ideal.\n",
        "# Ideally we would like to split based on another variable, for example time.\n",
        "# Note that both test and train should be unbiased samples of the whole population.\n",
        "from sklearn.model_selection import train_test_split\n",
        "train, test = train_test_split(final_data, test_size=0.3)"
      ]
    },
    {
      "cell_type": "code",
      "execution_count": null,
      "metadata": {
        "colab": {
          "base_uri": "https://localhost:8080/"
        },
        "id": "hkoZ_7lPa9l6",
        "outputId": "69737d66-c2dd-4d11-826b-2bd7c4b0564f"
      },
      "outputs": [
        {
          "name": "stdout",
          "output_type": "stream",
          "text": [
            "(299355, 101)\n",
            "(128295, 101)\n"
          ]
        }
      ],
      "source": [
        "# check\n",
        "print (train.shape)\n",
        "print (test.shape)"
      ]
    },
    {
      "cell_type": "code",
      "execution_count": null,
      "metadata": {
        "colab": {
          "base_uri": "https://localhost:8080/"
        },
        "id": "SlLgIlzBfkIt",
        "outputId": "f8262a8e-989d-4c37-88e4-e19c6c54dc39"
      },
      "outputs": [
        {
          "name": "stdout",
          "output_type": "stream",
          "text": [
            "0.027305373219087704\n",
            "0.02747573950660587\n"
          ]
        }
      ],
      "source": [
        "# check - it is a good practice to compare test and train samples to make sure they are not fundamentally different.\n",
        "# If so, we will get high variance even with a non-overfitted model.\n",
        "# Here we compare bad rate in both samples.\n",
        "print (sum(train[\"30+ Delinquent\"])/len(train[\"30+ Delinquent\"]))\n",
        "print (sum(test[\"30+ Delinquent\"])/len(test[\"30+ Delinquent\"]))"
      ]
    },
    {
      "cell_type": "markdown",
      "metadata": {
        "id": "Eb4hAwiydpJ_"
      },
      "source": [
        "## 6. Feature Selection\n",
        "\n",
        "Before grid search, we should choose only a sub-sample of features that have predictive power. This will significantly increase speed of grid search, while we don't lose a lot of information.\n",
        "\n",
        "There are several ways to do feature reduction. One good approach is to buid a simple Ensemble model, and choose only features with feature importance higher than say 1%. There is no written prescription here, and it is up to modeler to choose the treshold."
      ]
    },
    {
      "cell_type": "code",
      "execution_count": null,
      "metadata": {
        "id": "m9bCsOuxavdp"
      },
      "outputs": [],
      "source": [
        "# Define X and Y varibales to build the ensemble model.\n",
        "X_train = train.drop(['30+ Delinquent'], axis = 1)\n",
        "Y_train = train['30+ Delinquent']\n",
        "\n",
        "X_test = test.drop(['30+ Delinquent'], axis = 1)\n",
        "Y_test = test['30+ Delinquent']"
      ]
    },
    {
      "cell_type": "code",
      "execution_count": null,
      "metadata": {
        "id": "azO_55CFb0a-"
      },
      "outputs": [],
      "source": [
        "# Build a simple XGB model to find important features\n",
        "\n",
        "import xgboost as xgb\n",
        "xgb_instance = xgb.XGBClassifier(n_estimators = 20)\n",
        "model_for_feature_selection = xgb_instance.fit(X_train, Y_train)"
      ]
    },
    {
      "cell_type": "code",
      "execution_count": null,
      "metadata": {
        "colab": {
          "base_uri": "https://localhost:8080/"
        },
        "id": "9TcYVdCYgtFd",
        "outputId": "61308e9c-71a4-4cf3-8ee7-3d69c5ebf961"
      },
      "outputs": [
        {
          "name": "stdout",
          "output_type": "stream",
          "text": [
            "                                Feature  Importance\n",
            "23                 last_fico_range_high    0.199999\n",
            "16                      total_pymnt_inv    0.056535\n",
            "19                   total_rec_late_fee    0.043177\n",
            "78                 pub_rec_bankruptcies    0.029481\n",
            "13                            out_prncp    0.026500\n",
            "15                          total_pymnt    0.025704\n",
            "14                        out_prncp_inv    0.024617\n",
            "18                        total_rec_int    0.019404\n",
            "22                      last_pymnt_amnt    0.015814\n",
            "70                  num_rev_tl_bal_gt_0    0.013631\n",
            "17                      total_rec_prncp    0.013347\n",
            "12                            total_acc    0.013093\n",
            "66                            num_bc_tl    0.012414\n",
            "49                       bc_open_to_buy    0.012269\n",
            "7                mths_since_last_record    0.012144\n",
            "3                        fico_range_low    0.012065\n",
            "71                             num_sats    0.012010\n",
            "76                       pct_tl_nvr_dlq    0.011986\n",
            "6                mths_since_last_delinq    0.010784\n",
            "10                            revol_bal    0.010521\n",
            "47                 acc_open_past_24mths    0.010208\n",
            "44                               inq_fi    0.009889\n",
            "69                        num_rev_accts    0.009827\n",
            "80                      tot_hi_cred_lim    0.009602\n",
            "40                          open_rv_24m    0.009558\n",
            "96                    Employment_Length    0.009399\n",
            "30                         tot_coll_amt    0.009150\n",
            "54                 mo_sin_old_rev_tl_op    0.009114\n",
            "5                        inq_last_6mths    0.008851\n",
            "43                     total_rev_hi_lim    0.008772\n",
            "91                  sec_app_open_act_il    0.008653\n",
            "0                            annual_inc    0.008557\n",
            "42                             all_util    0.008533\n",
            "57                             mort_acc    0.008369\n",
            "60                mths_since_recent_inq    0.008363\n",
            "31                          tot_cur_bal    0.008209\n",
            "1                                   dti    0.008097\n",
            "88                     sec_app_mort_acc    0.008071\n",
            "89                     sec_app_open_acc    0.007970\n",
            "61       mths_since_recent_revol_delinq    0.007920\n",
            "46                         inq_last_12m    0.007842\n",
            "83           total_il_high_credit_limit    0.007788\n",
            "41                           max_bal_bc    0.007778\n",
            "45                          total_cu_tl    0.007702\n",
            "36                   mths_since_rcnt_il    0.007602\n",
            "85               sec_app_fico_range_low    0.007271\n",
            "62                num_accts_ever_120_pd    0.007161\n",
            "63                       num_actv_bc_tl    0.007073\n",
            "84                      revol_bal_joint    0.006946\n",
            "11                           revol_util    0.006874\n",
            "55                mo_sin_rcnt_rev_tl_op    0.006632\n",
            "38                              il_util    0.006512\n",
            "82                       total_bc_limit    0.006484\n",
            "59             mths_since_recent_bc_dlq    0.006455\n",
            "81                    total_bal_ex_mort    0.006311\n",
            "92                sec_app_num_rev_accts    0.006212\n",
            "33                          open_act_il    0.006189\n",
            "34                          open_il_12m    0.006182\n",
            "95  sec_app_mths_since_last_major_derog    0.006125\n",
            "99                                 RENT    0.006051\n",
            "75                   num_tl_op_past_12m    0.006028\n",
            "32                          open_acc_6m    0.005988\n",
            "35                          open_il_24m    0.005939\n",
            "68                        num_op_rev_tl    0.005845\n",
            "26          mths_since_last_major_derog    0.005783\n",
            "48                          avg_cur_bal    0.005659\n",
            "37                         total_bal_il    0.005648\n",
            "50                              bc_util    0.005473\n",
            "8                              open_acc    0.005422\n",
            "90                   sec_app_revol_util    0.005412\n",
            "77                     percent_bc_gt_75    0.005402\n",
            "28                            dti_joint    0.005286\n",
            "39                          open_rv_12m    0.005151\n",
            "27                     annual_inc_joint    0.004940\n",
            "2                           delinq_2yrs    0.004781\n",
            "58                 mths_since_recent_bc    0.004583\n",
            "87               sec_app_inq_last_6mths    0.004566\n",
            "56                       mo_sin_rcnt_tl    0.004469\n",
            "53                   mo_sin_old_il_acct    0.004185\n",
            "65                          num_bc_sats    0.003768\n",
            "67                            num_il_tl    0.002938\n",
            "25           collections_12_mths_ex_med    0.001993\n",
            "64                      num_actv_rev_tl    0.000949\n",
            "74                   num_tl_90g_dpd_24m    0.000000\n",
            "9                               pub_rec    0.000000\n",
            "98                                  OWN    0.000000\n",
            "97                             MORTGAGE    0.000000\n",
            "4                       fico_range_high    0.000000\n",
            "94   sec_app_collections_12_mths_ex_med    0.000000\n",
            "93     sec_app_chargeoff_within_12_mths    0.000000\n",
            "52                          delinq_amnt    0.000000\n",
            "21              collection_recovery_fee    0.000000\n",
            "20                           recoveries    0.000000\n",
            "73                         num_tl_30dpd    0.000000\n",
            "86              sec_app_fico_range_high    0.000000\n",
            "24                  last_fico_range_low    0.000000\n",
            "51             chargeoff_within_12_mths    0.000000\n",
            "79                            tax_liens    0.000000\n",
            "72                     num_tl_120dpd_2m    0.000000\n",
            "29                       acc_now_delinq    0.000000\n"
          ]
        }
      ],
      "source": [
        "# check feature importances - you can also use SHAP values\n",
        "feature_importance = {'Feature':X_train.columns,'Importance':model_for_feature_selection.feature_importances_}\n",
        "feature_importance = pd.DataFrame(feature_importance)\n",
        "feature_importance.sort_values(\"Importance\", inplace=True,ascending=False)\n",
        "print (feature_importance.to_string())"
      ]
    },
    {
      "cell_type": "code",
      "execution_count": null,
      "metadata": {
        "id": "hSvfnfLHhiGH"
      },
      "outputs": [],
      "source": [
        "# choose featires with FI higher than 1%\n",
        "final_features = feature_importance[\"Feature\"][feature_importance.Importance > 0.01]\n",
        "\n",
        "X_train = X_train[final_features]\n",
        "X_test = X_test[final_features]"
      ]
    },
    {
      "cell_type": "code",
      "execution_count": null,
      "metadata": {
        "colab": {
          "base_uri": "https://localhost:8080/"
        },
        "id": "yDV3Z7BhiKJK",
        "outputId": "c819d0c7-fe9a-4e78-99d7-fa4918283dd9"
      },
      "outputs": [
        {
          "name": "stdout",
          "output_type": "stream",
          "text": [
            "(299355, 21)\n",
            "(128295, 21)\n"
          ]
        }
      ],
      "source": [
        "# check\n",
        "print (X_train.shape)\n",
        "print (X_test.shape)"
      ]
    },
    {
      "cell_type": "markdown",
      "metadata": {
        "id": "wyqa1qusiy1k"
      },
      "source": [
        "## 7. Grid Search (parameter tuning) and Bias/Variance analysis\n",
        "\n",
        "We will play with two most important parameters of XGB: # trees, and learning rate.\n",
        "\n",
        "Large values for # trees would make the process very slow. We often start with not very large numbers, and only increase number if we see a significant improvement as # trees increase."
      ]
    },
    {
      "cell_type": "code",
      "execution_count": null,
      "metadata": {
        "colab": {
          "base_uri": "https://localhost:8080/",
          "height": 551
        },
        "id": "uqLKzPbKi1RO",
        "outputId": "6d6c4643-8ff8-4273-951f-11417da49937"
      },
      "outputs": [
        {
          "data": {
            "text/html": [
              "\n",
              "  <div id=\"df-d8b9f290-632a-4471-ad9c-c63fd2fb5eb7\" class=\"colab-df-container\">\n",
              "    <div>\n",
              "<style scoped>\n",
              "    .dataframe tbody tr th:only-of-type {\n",
              "        vertical-align: middle;\n",
              "    }\n",
              "\n",
              "    .dataframe tbody tr th {\n",
              "        vertical-align: top;\n",
              "    }\n",
              "\n",
              "    .dataframe thead th {\n",
              "        text-align: right;\n",
              "    }\n",
              "</style>\n",
              "<table border=\"1\" class=\"dataframe\">\n",
              "  <thead>\n",
              "    <tr style=\"text-align: right;\">\n",
              "      <th></th>\n",
              "      <th>Num Trees</th>\n",
              "      <th>Learning Rate</th>\n",
              "      <th>AUC Train</th>\n",
              "      <th>AUC Test</th>\n",
              "    </tr>\n",
              "  </thead>\n",
              "  <tbody>\n",
              "    <tr>\n",
              "      <th>0</th>\n",
              "      <td>20</td>\n",
              "      <td>0.001</td>\n",
              "      <td>0.88227</td>\n",
              "      <td>0.881649</td>\n",
              "    </tr>\n",
              "    <tr>\n",
              "      <th>1</th>\n",
              "      <td>20</td>\n",
              "      <td>0.01</td>\n",
              "      <td>0.884698</td>\n",
              "      <td>0.883575</td>\n",
              "    </tr>\n",
              "    <tr>\n",
              "      <th>2</th>\n",
              "      <td>20</td>\n",
              "      <td>0.1</td>\n",
              "      <td>0.906944</td>\n",
              "      <td>0.902341</td>\n",
              "    </tr>\n",
              "    <tr>\n",
              "      <th>3</th>\n",
              "      <td>20</td>\n",
              "      <td>0.5</td>\n",
              "      <td>0.934161</td>\n",
              "      <td>0.914761</td>\n",
              "    </tr>\n",
              "    <tr>\n",
              "      <th>4</th>\n",
              "      <td>50</td>\n",
              "      <td>0.001</td>\n",
              "      <td>0.882465</td>\n",
              "      <td>0.881714</td>\n",
              "    </tr>\n",
              "    <tr>\n",
              "      <th>5</th>\n",
              "      <td>50</td>\n",
              "      <td>0.01</td>\n",
              "      <td>0.894117</td>\n",
              "      <td>0.893124</td>\n",
              "    </tr>\n",
              "    <tr>\n",
              "      <th>6</th>\n",
              "      <td>50</td>\n",
              "      <td>0.1</td>\n",
              "      <td>0.921776</td>\n",
              "      <td>0.910859</td>\n",
              "    </tr>\n",
              "    <tr>\n",
              "      <th>7</th>\n",
              "      <td>50</td>\n",
              "      <td>0.5</td>\n",
              "      <td>0.958861</td>\n",
              "      <td>0.922376</td>\n",
              "    </tr>\n",
              "    <tr>\n",
              "      <th>8</th>\n",
              "      <td>100</td>\n",
              "      <td>0.001</td>\n",
              "      <td>0.882914</td>\n",
              "      <td>0.882148</td>\n",
              "    </tr>\n",
              "    <tr>\n",
              "      <th>9</th>\n",
              "      <td>100</td>\n",
              "      <td>0.01</td>\n",
              "      <td>0.902243</td>\n",
              "      <td>0.899353</td>\n",
              "    </tr>\n",
              "    <tr>\n",
              "      <th>10</th>\n",
              "      <td>100</td>\n",
              "      <td>0.1</td>\n",
              "      <td>0.937489</td>\n",
              "      <td>0.917244</td>\n",
              "    </tr>\n",
              "    <tr>\n",
              "      <th>11</th>\n",
              "      <td>100</td>\n",
              "      <td>0.5</td>\n",
              "      <td>0.975003</td>\n",
              "      <td>0.921842</td>\n",
              "    </tr>\n",
              "    <tr>\n",
              "      <th>12</th>\n",
              "      <td>200</td>\n",
              "      <td>0.001</td>\n",
              "      <td>0.885104</td>\n",
              "      <td>0.883878</td>\n",
              "    </tr>\n",
              "    <tr>\n",
              "      <th>13</th>\n",
              "      <td>200</td>\n",
              "      <td>0.01</td>\n",
              "      <td>0.907188</td>\n",
              "      <td>0.902439</td>\n",
              "    </tr>\n",
              "    <tr>\n",
              "      <th>14</th>\n",
              "      <td>200</td>\n",
              "      <td>0.1</td>\n",
              "      <td>0.953303</td>\n",
              "      <td>0.922948</td>\n",
              "    </tr>\n",
              "    <tr>\n",
              "      <th>15</th>\n",
              "      <td>200</td>\n",
              "      <td>0.5</td>\n",
              "      <td>0.990752</td>\n",
              "      <td>0.916578</td>\n",
              "    </tr>\n",
              "  </tbody>\n",
              "</table>\n",
              "</div>\n",
              "    <div class=\"colab-df-buttons\">\n",
              "\n",
              "  <div class=\"colab-df-container\">\n",
              "    <button class=\"colab-df-convert\" onclick=\"convertToInteractive('df-d8b9f290-632a-4471-ad9c-c63fd2fb5eb7')\"\n",
              "            title=\"Convert this dataframe to an interactive table.\"\n",
              "            style=\"display:none;\">\n",
              "\n",
              "  <svg xmlns=\"http://www.w3.org/2000/svg\" height=\"24px\" viewBox=\"0 -960 960 960\">\n",
              "    <path d=\"M120-120v-720h720v720H120Zm60-500h600v-160H180v160Zm220 220h160v-160H400v160Zm0 220h160v-160H400v160ZM180-400h160v-160H180v160Zm440 0h160v-160H620v160ZM180-180h160v-160H180v160Zm440 0h160v-160H620v160Z\"/>\n",
              "  </svg>\n",
              "    </button>\n",
              "\n",
              "  <style>\n",
              "    .colab-df-container {\n",
              "      display:flex;\n",
              "      gap: 12px;\n",
              "    }\n",
              "\n",
              "    .colab-df-convert {\n",
              "      background-color: #E8F0FE;\n",
              "      border: none;\n",
              "      border-radius: 50%;\n",
              "      cursor: pointer;\n",
              "      display: none;\n",
              "      fill: #1967D2;\n",
              "      height: 32px;\n",
              "      padding: 0 0 0 0;\n",
              "      width: 32px;\n",
              "    }\n",
              "\n",
              "    .colab-df-convert:hover {\n",
              "      background-color: #E2EBFA;\n",
              "      box-shadow: 0px 1px 2px rgba(60, 64, 67, 0.3), 0px 1px 3px 1px rgba(60, 64, 67, 0.15);\n",
              "      fill: #174EA6;\n",
              "    }\n",
              "\n",
              "    .colab-df-buttons div {\n",
              "      margin-bottom: 4px;\n",
              "    }\n",
              "\n",
              "    [theme=dark] .colab-df-convert {\n",
              "      background-color: #3B4455;\n",
              "      fill: #D2E3FC;\n",
              "    }\n",
              "\n",
              "    [theme=dark] .colab-df-convert:hover {\n",
              "      background-color: #434B5C;\n",
              "      box-shadow: 0px 1px 3px 1px rgba(0, 0, 0, 0.15);\n",
              "      filter: drop-shadow(0px 1px 2px rgba(0, 0, 0, 0.3));\n",
              "      fill: #FFFFFF;\n",
              "    }\n",
              "  </style>\n",
              "\n",
              "    <script>\n",
              "      const buttonEl =\n",
              "        document.querySelector('#df-d8b9f290-632a-4471-ad9c-c63fd2fb5eb7 button.colab-df-convert');\n",
              "      buttonEl.style.display =\n",
              "        google.colab.kernel.accessAllowed ? 'block' : 'none';\n",
              "\n",
              "      async function convertToInteractive(key) {\n",
              "        const element = document.querySelector('#df-d8b9f290-632a-4471-ad9c-c63fd2fb5eb7');\n",
              "        const dataTable =\n",
              "          await google.colab.kernel.invokeFunction('convertToInteractive',\n",
              "                                                    [key], {});\n",
              "        if (!dataTable) return;\n",
              "\n",
              "        const docLinkHtml = 'Like what you see? Visit the ' +\n",
              "          '<a target=\"_blank\" href=https://colab.research.google.com/notebooks/data_table.ipynb>data table notebook</a>'\n",
              "          + ' to learn more about interactive tables.';\n",
              "        element.innerHTML = '';\n",
              "        dataTable['output_type'] = 'display_data';\n",
              "        await google.colab.output.renderOutput(dataTable, element);\n",
              "        const docLink = document.createElement('div');\n",
              "        docLink.innerHTML = docLinkHtml;\n",
              "        element.appendChild(docLink);\n",
              "      }\n",
              "    </script>\n",
              "  </div>\n",
              "\n",
              "\n",
              "<div id=\"df-6ea15c8c-a6a3-418a-b60e-ca33525eb655\">\n",
              "  <button class=\"colab-df-quickchart\" onclick=\"quickchart('df-6ea15c8c-a6a3-418a-b60e-ca33525eb655')\"\n",
              "            title=\"Suggest charts.\"\n",
              "            style=\"display:none;\">\n",
              "\n",
              "<svg xmlns=\"http://www.w3.org/2000/svg\" height=\"24px\"viewBox=\"0 0 24 24\"\n",
              "     width=\"24px\">\n",
              "    <g>\n",
              "        <path d=\"M19 3H5c-1.1 0-2 .9-2 2v14c0 1.1.9 2 2 2h14c1.1 0 2-.9 2-2V5c0-1.1-.9-2-2-2zM9 17H7v-7h2v7zm4 0h-2V7h2v10zm4 0h-2v-4h2v4z\"/>\n",
              "    </g>\n",
              "</svg>\n",
              "  </button>\n",
              "\n",
              "<style>\n",
              "  .colab-df-quickchart {\n",
              "      --bg-color: #E8F0FE;\n",
              "      --fill-color: #1967D2;\n",
              "      --hover-bg-color: #E2EBFA;\n",
              "      --hover-fill-color: #174EA6;\n",
              "      --disabled-fill-color: #AAA;\n",
              "      --disabled-bg-color: #DDD;\n",
              "  }\n",
              "\n",
              "  [theme=dark] .colab-df-quickchart {\n",
              "      --bg-color: #3B4455;\n",
              "      --fill-color: #D2E3FC;\n",
              "      --hover-bg-color: #434B5C;\n",
              "      --hover-fill-color: #FFFFFF;\n",
              "      --disabled-bg-color: #3B4455;\n",
              "      --disabled-fill-color: #666;\n",
              "  }\n",
              "\n",
              "  .colab-df-quickchart {\n",
              "    background-color: var(--bg-color);\n",
              "    border: none;\n",
              "    border-radius: 50%;\n",
              "    cursor: pointer;\n",
              "    display: none;\n",
              "    fill: var(--fill-color);\n",
              "    height: 32px;\n",
              "    padding: 0;\n",
              "    width: 32px;\n",
              "  }\n",
              "\n",
              "  .colab-df-quickchart:hover {\n",
              "    background-color: var(--hover-bg-color);\n",
              "    box-shadow: 0 1px 2px rgba(60, 64, 67, 0.3), 0 1px 3px 1px rgba(60, 64, 67, 0.15);\n",
              "    fill: var(--button-hover-fill-color);\n",
              "  }\n",
              "\n",
              "  .colab-df-quickchart-complete:disabled,\n",
              "  .colab-df-quickchart-complete:disabled:hover {\n",
              "    background-color: var(--disabled-bg-color);\n",
              "    fill: var(--disabled-fill-color);\n",
              "    box-shadow: none;\n",
              "  }\n",
              "\n",
              "  .colab-df-spinner {\n",
              "    border: 2px solid var(--fill-color);\n",
              "    border-color: transparent;\n",
              "    border-bottom-color: var(--fill-color);\n",
              "    animation:\n",
              "      spin 1s steps(1) infinite;\n",
              "  }\n",
              "\n",
              "  @keyframes spin {\n",
              "    0% {\n",
              "      border-color: transparent;\n",
              "      border-bottom-color: var(--fill-color);\n",
              "      border-left-color: var(--fill-color);\n",
              "    }\n",
              "    20% {\n",
              "      border-color: transparent;\n",
              "      border-left-color: var(--fill-color);\n",
              "      border-top-color: var(--fill-color);\n",
              "    }\n",
              "    30% {\n",
              "      border-color: transparent;\n",
              "      border-left-color: var(--fill-color);\n",
              "      border-top-color: var(--fill-color);\n",
              "      border-right-color: var(--fill-color);\n",
              "    }\n",
              "    40% {\n",
              "      border-color: transparent;\n",
              "      border-right-color: var(--fill-color);\n",
              "      border-top-color: var(--fill-color);\n",
              "    }\n",
              "    60% {\n",
              "      border-color: transparent;\n",
              "      border-right-color: var(--fill-color);\n",
              "    }\n",
              "    80% {\n",
              "      border-color: transparent;\n",
              "      border-right-color: var(--fill-color);\n",
              "      border-bottom-color: var(--fill-color);\n",
              "    }\n",
              "    90% {\n",
              "      border-color: transparent;\n",
              "      border-bottom-color: var(--fill-color);\n",
              "    }\n",
              "  }\n",
              "</style>\n",
              "\n",
              "  <script>\n",
              "    async function quickchart(key) {\n",
              "      const quickchartButtonEl =\n",
              "        document.querySelector('#' + key + ' button');\n",
              "      quickchartButtonEl.disabled = true;  // To prevent multiple clicks.\n",
              "      quickchartButtonEl.classList.add('colab-df-spinner');\n",
              "      try {\n",
              "        const charts = await google.colab.kernel.invokeFunction(\n",
              "            'suggestCharts', [key], {});\n",
              "      } catch (error) {\n",
              "        console.error('Error during call to suggestCharts:', error);\n",
              "      }\n",
              "      quickchartButtonEl.classList.remove('colab-df-spinner');\n",
              "      quickchartButtonEl.classList.add('colab-df-quickchart-complete');\n",
              "    }\n",
              "    (() => {\n",
              "      let quickchartButtonEl =\n",
              "        document.querySelector('#df-6ea15c8c-a6a3-418a-b60e-ca33525eb655 button');\n",
              "      quickchartButtonEl.style.display =\n",
              "        google.colab.kernel.accessAllowed ? 'block' : 'none';\n",
              "    })();\n",
              "  </script>\n",
              "</div>\n",
              "    </div>\n",
              "  </div>\n"
            ],
            "text/plain": [
              "   Num Trees Learning Rate AUC Train  AUC Test\n",
              "0         20         0.001   0.88227  0.881649\n",
              "1         20          0.01  0.884698  0.883575\n",
              "2         20           0.1  0.906944  0.902341\n",
              "3         20           0.5  0.934161  0.914761\n",
              "4         50         0.001  0.882465  0.881714\n",
              "5         50          0.01  0.894117  0.893124\n",
              "6         50           0.1  0.921776  0.910859\n",
              "7         50           0.5  0.958861  0.922376\n",
              "8        100         0.001  0.882914  0.882148\n",
              "9        100          0.01  0.902243  0.899353\n",
              "10       100           0.1  0.937489  0.917244\n",
              "11       100           0.5  0.975003  0.921842\n",
              "12       200         0.001  0.885104  0.883878\n",
              "13       200          0.01  0.907188  0.902439\n",
              "14       200           0.1  0.953303  0.922948\n",
              "15       200           0.5  0.990752  0.916578"
            ]
          },
          "execution_count": 81,
          "metadata": {},
          "output_type": "execute_result"
        }
      ],
      "source": [
        "# Here we do grid search only on #trees, and look at the AUC as performance metric.\n",
        "\n",
        "from sklearn.metrics import roc_auc_score\n",
        "table = pd.DataFrame(columns = [\"Num Trees\", \"Learning Rate\", \"AUC Train\", \"AUC Test\"])\n",
        "\n",
        "row = 0\n",
        "for num_trees in [20, 50, 100, 200]:\n",
        "  for LR in [0.001, 0.01, 0.1, 0.5]:\n",
        "    xgb_instance = xgb.XGBClassifier(n_estimators=num_trees, learning_rate = LR)\n",
        "    model = xgb_instance.fit(X_train, Y_train)\n",
        "\n",
        "    table.loc[row,\"Num Trees\"] = num_trees\n",
        "    table.loc[row,\"Learning Rate\"] = LR\n",
        "    table.loc[row,\"AUC Train\"] = roc_auc_score(train['30+ Delinquent'], model.predict_proba(X_train)[:,1])\n",
        "    table.loc[row,\"AUC Test\"] = roc_auc_score(test['30+ Delinquent'], model.predict_proba(X_test)[:,1])\n",
        "\n",
        "    row = row + 1\n",
        "\n",
        "table.to_csv(\"drive/My Drive/results.csv\")"
      ]
    },
    {
      "cell_type": "code",
      "execution_count": null,
      "metadata": {
        "colab": {
          "base_uri": "https://localhost:8080/",
          "height": 447
        },
        "id": "aToYLcPAF21o",
        "outputId": "6d747268-2b58-40bf-d690-47f5a53bf385"
      },
      "outputs": [
        {
          "data": {
            "text/plain": [
              "<matplotlib.collections.PathCollection at 0x79f458781420>"
            ]
          },
          "execution_count": 87,
          "metadata": {},
          "output_type": "execute_result"
        },
        {
          "data": {
            "image/png": "[encoded data removed]",
            "text/plain": [
              "<Figure size 640x480 with 1 Axes>"
            ]
          },
          "metadata": {},
          "output_type": "display_data"
        }
      ],
      "source": [
        "import matplotlib.pyplot as plt\n",
        "#table.plot(x=\"AUC Train\", y=\"AUC Test\", \"ro\")\n",
        "plt.scatter(table[\"AUC Train\"], table[\"AUC Test\"])"
      ]
    },
    {
      "cell_type": "markdown",
      "metadata": {
        "id": "0AqFUfq5kSGa"
      },
      "source": [
        "## Final Model Selection\n",
        "\n",
        "At 0.5 LR we see some increase in variance. LR = 0.1 seems more reasonable. Also not much improvement seen from LR = 100 to 200. So we go with #tree = 100 and LR = 0.1.\n",
        "\n",
        "Note: Choice of best model is often a subjective decision, but we always prefer to go with simpler model if possible."
      ]
    },
    {
      "cell_type": "code",
      "execution_count": null,
      "metadata": {
        "id": "NX-BoFzxdB3j"
      },
      "outputs": [],
      "source": [
        "# Re-build and save the final model\n",
        "xgb_instance = xgb.XGBClassifier(n_estimators=100, learning_rate = 0.1)\n",
        "final_model = xgb_instance.fit(X_train, Y_train)"
      ]
    },
    {
      "cell_type": "markdown",
      "metadata": {
        "id": "neK2DWpBJLxd"
      },
      "source": [
        "**Check Rank Ordering**: Rank ordering means observations with higher Probability of Default should have higher default rate (actual default rate). If we see a rank ordering break, the model needs a fix."
      ]
    },
    {
      "cell_type": "code",
      "execution_count": null,
      "metadata": {
        "id": "uUkPnCLgKwmW"
      },
      "outputs": [],
      "source": [
        "train[\"Prediction\"] = final_model.predict_proba(X_train)[:, 1]"
      ]
    },
    {
      "cell_type": "code",
      "execution_count": null,
      "metadata": {
        "colab": {
          "base_uri": "https://localhost:8080/",
          "height": 466
        },
        "id": "JU8tZhQv_TDH",
        "outputId": "438c9ce9-ad48-4439-a9f9-ed6dee6b4b6d"
      },
      "outputs": [
        {
          "data": {
            "text/plain": [
              "<Axes: xlabel='Score Bins'>"
            ]
          },
          "execution_count": 105,
          "metadata": {},
          "output_type": "execute_result"
        },
        {
          "data": {
            "image/png": "[encoded data removed]",
            "text/plain": [
              "<Figure size 640x480 with 1 Axes>"
            ]
          },
          "metadata": {},
          "output_type": "display_data"
        }
      ],
      "source": [
        "# Rank Ordering\n",
        "quantiles = list(set(train.Prediction.quantile([0.1, 0.2, 0.3, 0.4, 0.5, 0.6, 0.7, 0.8, 0.9])))\n",
        "quantiles.sort()\n",
        "quantiles.insert(0,0)\n",
        "quantiles.insert(len(quantiles),1)\n",
        "\n",
        "\n",
        "train[\"Score Bins\"] = pd.cut(train[\"Prediction\"], quantiles)\n",
        "stat = train.groupby(\"Score Bins\")[\"30+ Delinquent\"].agg([\"sum\", \"count\"])\n",
        "stat[\"Bad Rate\"] = stat[\"sum\"] / stat[\"count\"]\n",
        "stat.sort_values([\"Bad Rate\"],ascending=False, inplace=True)\n",
        "\n",
        "#plt.bar(stat[\"Bad Rate\"], color ='maroon',\n",
        " #       width = 0.4)\n",
        "\n",
        "stat.plot.bar(y='Bad Rate', rot=0)"
      ]
    },
    {
      "cell_type": "code",
      "execution_count": null,
      "metadata": {
        "colab": {
          "base_uri": "https://localhost:8080/",
          "height": 466
        },
        "id": "7gs19LnWEYqa",
        "outputId": "3140ac41-16cf-4093-9dc7-bf002ce4a89c"
      },
      "outputs": [
        {
          "data": {
            "text/plain": [
              "<Axes: xlabel='Score Bins'>"
            ]
          },
          "execution_count": 106,
          "metadata": {},
          "output_type": "execute_result"
        },
        {
          "data": {
            "image/png": "[encoded data removed]",
            "text/plain": [
              "<Figure size 640x480 with 1 Axes>"
            ]
          },
          "metadata": {},
          "output_type": "display_data"
        }
      ],
      "source": [
        "test[\"Prediction\"] = final_model.predict_proba(X_test)[:, 1]\n",
        "\n",
        "test[\"Score Bins\"] = pd.cut(test[\"Prediction\"], quantiles)\n",
        "stat = test.groupby(\"Score Bins\")[\"30+ Delinquent\"].agg([\"sum\", \"count\"])\n",
        "stat[\"Bad Rate\"] = stat[\"sum\"] / stat[\"count\"]\n",
        "stat.sort_values([\"Bad Rate\"],ascending=False, inplace=True)\n",
        "\n",
        "stat.plot.bar(y='Bad Rate', rot=0)"
      ]
    }
  ],
  "metadata": {
    "colab": {
      "provenance": [],
      "include_colab_link": true
    },
    "kernelspec": {
      "display_name": "Python 3 (ipykernel)",
      "language": "python",
      "name": "python3"
    },
    "language_info": {
      "codemirror_mode": {
        "name": "ipython",
        "version": 3
      },
      "file_extension": ".py",
      "mimetype": "text/x-python",
      "name": "python",
      "nbconvert_exporter": "python",
      "pygments_lexer": "ipython3",
      "version": "3.10.9"
    }
  },
  "nbformat": 4,
  "nbformat_minor": 0
}